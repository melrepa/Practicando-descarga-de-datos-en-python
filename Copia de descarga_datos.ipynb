{
 "cells": [
  {
   "cell_type": "markdown",
   "metadata": {
    "id": "PbVnNstEWGgX"
   },
   "source": [
    "<center>\n",
    "<p><img src=\"https://mcd.unison.mx/wp-content/themes/awaken/img/logo_mcd.png\" width=\"150\">\n",
    "</p>\n",
    "\n",
    "\n",
    "\n",
    "# Curso *Ingeniería de Características*\n",
    "\n",
    "### Descargando datos\n",
    "\n",
    "\n",
    "<p> Melissa Reyes Paz </p>\n",
    "<p>\n",
    "<img src=\"https://identidadbuho.unison.mx/wp-content/uploads/2019/06/letragrama-cmyk-72.jpg\" width=\"150\">\n",
    "</p>\n",
    "\n",
    "\n",
    "<a target=\"_blank\" href=\"https://colab.research.google.com/github/mcd-unison/ing-caract/blob/main/ejemplos/integracion/python/descarga_datos.ipynb\"><img src=\"https://i.ibb.co/2P3SLwK/colab.png\"  style=\"padding-bottom:5px;\" />Ejecuta en Google Colab</a>\n",
    "\n",
    "</center>"
   ]
  },
  {
   "cell_type": "markdown",
   "metadata": {
    "id": "TaQZgzvaWGgf"
   },
   "source": [
    "# 1. Descargando datos a la fuerza bruta\n",
    "\n",
    "Vamos a ver primero como ir descargando datos y luego como lidiar con diferentes formatos. Es muy importante que, si los datos los vamos a cargar por única vez, descargar el conjunto de datos, tal como se encuentran, esto es `raw data`.\n",
    "\n",
    "Vamos primero cargando las bibliotecas necesarias:"
   ]
  },
  {
   "cell_type": "code",
   "execution_count": 1,
   "metadata": {
    "id": "ca3e5HCbWGgg"
   },
   "outputs": [],
   "source": [
    "\n",
    "import os  # Para manejo de archivos y directorios\n",
    "import urllib.request # Una forma estandard de descargar datos\n",
    "# import requests # Otra forma no de las librerías de uso comun\n",
    "\n",
    "import datetime # Fecha de descarga\n",
    "import pandas as pd # Solo para ver el archivo descargado\n",
    "import zipfile # Descompresión de archivos"
   ]
  },
  {
   "cell_type": "markdown",
   "metadata": {
    "id": "ONcoFn8rWGgh"
   },
   "source": [
    "Es importante saber en donde nos encontramos y crear los subdirectorios necesarios para guardar los datos de manera ordenada. Tambien es importante evitar cargar datos que ya han sido descargados anteriormente."
   ]
  },
  {
   "cell_type": "code",
   "execution_count": 2,
   "metadata": {
    "id": "Q3axz3iOWGgi"
   },
   "outputs": [
    {
     "name": "stdout",
     "output_type": "stream",
     "text": [
      "C:\\Users\\ghost\\Practicando-descarga-de-datos-en-python\n"
     ]
    }
   ],
   "source": [
    "# pwd\n",
    "print(os.getcwd())\n",
    "\n",
    "#  Estos son los datos que vamos a descargar y donde vamos a guardarlos\n",
    "desaparecidos_RNPDNO_url = \"http://www.datamx.io/dataset/fdd2ca20-ee70-4a31-9bdf-823f3c1307a2/resource/d352810c-a22e-4d72-bb3b-33c742c799dd/download/desaparecidos3ago.zip\"\n",
    "desaparecidos_RNPDNO_archivo = \"desaparecidosRNPDNO.zip\"\n",
    "desaparecidos_corte_nacional_url = \"http://www.datamx.io/dataset/fdd2ca20-ee70-4a31-9bdf-823f3c1307a2/resource/4865e244-cf59-4d39-b863-96ed7f45cc70/download/nacional.json\"\n",
    "desaparecidos_corte_nacional_archivo = \"desaparecidos_nacional.json\"\n",
    "subdir = \"./data/\"\n"
   ]
  },
  {
   "cell_type": "code",
   "execution_count": 3,
   "metadata": {
    "id": "ihP7SLMxWGgj"
   },
   "outputs": [],
   "source": [
    "if not os.path.exists(desaparecidos_RNPDNO_archivo):\n",
    "    if not os.path.exists(subdir):\n",
    "        os.makedirs(subdir)\n",
    "    urllib.request.urlretrieve(desaparecidos_RNPDNO_url, subdir + desaparecidos_RNPDNO_archivo)  \n",
    "    with zipfile.ZipFile(subdir + desaparecidos_RNPDNO_archivo, \"r\") as zip_ref:\n",
    "        zip_ref.extractall(subdir)\n",
    "    \n",
    "    urllib.request.urlretrieve(desaparecidos_corte_nacional_url, subdir + desaparecidos_corte_nacional_archivo)  \n",
    "\n",
    "    with open(subdir + \"info.txt\", 'w') as f:\n",
    "        f.write(\"Archivos sobre personas desaparecidas\\n\")\n",
    "        info = \"\"\"\n",
    "        Datos de desaparecidos, corte nacional y desagregación a nivel estatal, por edad, por sexo, \n",
    "        por nacionalidad, por año de desaparición y por mes de desaparición para los últimos 12 meses.\n",
    "\n",
    "        Los datos se obtuvieron del RNPDNO con fecha de 03 de agosto de 2021 (la base de datos se actualiza constantemente) \n",
    "\n",
    "        \"\"\" \n",
    "        f.write(info + '\\n')\n",
    "        f.write(\"Descargado el \" + datetime.datetime.now().strftime(\"%Y-%m-%d %H:%M:%S\") + \"\\n\")\n",
    "        f.write(\"Desde: \" + desaparecidos_RNPDNO_url + \"\\n\")\n",
    "        f.write(\"Nombre: \" + desaparecidos_RNPDNO_archivo + \"\\n\")\n",
    "        f.write(\"Agregados nacionales descargados desde: \" + desaparecidos_corte_nacional_url + \"\\n\")\n",
    "        f.write(\"Nombre: \" + desaparecidos_corte_nacional_archivo + \"\\n\")"
   ]
  },
  {
   "cell_type": "markdown",
   "metadata": {
    "id": "JnB1tru1WGgk"
   },
   "source": [
    "# 2. Archivos en formato `json`\n",
    "\n",
    "Los archivos en formato json son posiblemente los más utilizados actualmente para transferir información por internet, ya que se usa en prácticamente todas las REST API. Como acabamos de ver es normal tener que enfrentarse con archivos `json`pésimamente o nada documentados, por lo que es necesario saber como tratarlos. \n",
    "\n",
    "Vamos a ver como se hace eso utilizando la bibloteca de `json`y la de `pandas`. Para `pandas`les recomiendo, si no lo conocen, de darle una vuelta a [la documentación y los tutoriales](https://pandas.pydata.org/docs/) que está muy bien hecha. O a el [curso básico de Kaggle](https://www.kaggle.com/learn/pandas).\n",
    "\n",
    "Sobre `json`, posiblemente [la página con la especificación](https://www.json.org/json-en.html) sea más que suficiente. \n",
    "\n",
    "Vamos a hacer un ejemplito sencillo y carismático revisando los repositorios de [github](https://github.com) y les voy a dejar que exploren los `json` de los archivos de personas desaparecidas."
   ]
  },
  {
   "cell_type": "code",
   "execution_count": 4,
   "metadata": {
    "id": "aRAtqV6oWGgk"
   },
   "outputs": [],
   "source": [
    "import pandas as pd # Esto es como una segunda piel\n",
    "import json # Una forma estandar de leer archivos json \n",
    "\n",
    "archivo_url = \"https://api.github.com/users/google/repos\"\n",
    "archivo_nombre = \"repos-google.json\"\n",
    "subdir = \"./data/\"\n",
    "\n",
    "if not os.path.exists(subdir + archivo_nombre):\n",
    "    if not os.path.exists(subdir):\n",
    "        os.makedirs(subdir)\n",
    "    urllib.request.urlretrieve(archivo_url, subdir + archivo_nombre)\n"
   ]
  },
  {
   "cell_type": "markdown",
   "metadata": {
    "id": "6-wB6IymWGgl"
   },
   "source": [
    "Vamos primero a ver como le hacemos con `pandas`"
   ]
  },
  {
   "cell_type": "code",
   "execution_count": 5,
   "metadata": {
    "id": "FkIIwwCnWGgm"
   },
   "outputs": [
    {
     "data": {
      "text/html": [
       "<div>\n",
       "<style scoped>\n",
       "    .dataframe tbody tr th:only-of-type {\n",
       "        vertical-align: middle;\n",
       "    }\n",
       "\n",
       "    .dataframe tbody tr th {\n",
       "        vertical-align: top;\n",
       "    }\n",
       "\n",
       "    .dataframe thead th {\n",
       "        text-align: right;\n",
       "    }\n",
       "</style>\n",
       "<table border=\"1\" class=\"dataframe\">\n",
       "  <thead>\n",
       "    <tr style=\"text-align: right;\">\n",
       "      <th></th>\n",
       "      <th>id</th>\n",
       "      <th>node_id</th>\n",
       "      <th>name</th>\n",
       "      <th>full_name</th>\n",
       "      <th>private</th>\n",
       "      <th>owner</th>\n",
       "      <th>html_url</th>\n",
       "      <th>description</th>\n",
       "      <th>fork</th>\n",
       "      <th>url</th>\n",
       "      <th>...</th>\n",
       "      <th>license</th>\n",
       "      <th>allow_forking</th>\n",
       "      <th>is_template</th>\n",
       "      <th>web_commit_signoff_required</th>\n",
       "      <th>topics</th>\n",
       "      <th>visibility</th>\n",
       "      <th>forks</th>\n",
       "      <th>open_issues</th>\n",
       "      <th>watchers</th>\n",
       "      <th>default_branch</th>\n",
       "    </tr>\n",
       "  </thead>\n",
       "  <tbody>\n",
       "    <tr>\n",
       "      <th>0</th>\n",
       "      <td>460600860</td>\n",
       "      <td>R_kgDOG3Q2HA</td>\n",
       "      <td>.allstar</td>\n",
       "      <td>google/.allstar</td>\n",
       "      <td>False</td>\n",
       "      <td>{'login': 'google', 'id': 1342004, 'node_id': ...</td>\n",
       "      <td>https://github.com/google/.allstar</td>\n",
       "      <td>None</td>\n",
       "      <td>False</td>\n",
       "      <td>https://api.github.com/repos/google/.allstar</td>\n",
       "      <td>...</td>\n",
       "      <td>{'key': 'apache-2.0', 'name': 'Apache License ...</td>\n",
       "      <td>True</td>\n",
       "      <td>False</td>\n",
       "      <td>False</td>\n",
       "      <td>[]</td>\n",
       "      <td>public</td>\n",
       "      <td>0</td>\n",
       "      <td>0</td>\n",
       "      <td>3</td>\n",
       "      <td>main</td>\n",
       "    </tr>\n",
       "    <tr>\n",
       "      <th>1</th>\n",
       "      <td>170908616</td>\n",
       "      <td>MDEwOlJlcG9zaXRvcnkxNzA5MDg2MTY=</td>\n",
       "      <td>.github</td>\n",
       "      <td>google/.github</td>\n",
       "      <td>False</td>\n",
       "      <td>{'login': 'google', 'id': 1342004, 'node_id': ...</td>\n",
       "      <td>https://github.com/google/.github</td>\n",
       "      <td>default configuration for @google repos</td>\n",
       "      <td>False</td>\n",
       "      <td>https://api.github.com/repos/google/.github</td>\n",
       "      <td>...</td>\n",
       "      <td>None</td>\n",
       "      <td>True</td>\n",
       "      <td>False</td>\n",
       "      <td>False</td>\n",
       "      <td>[]</td>\n",
       "      <td>public</td>\n",
       "      <td>147</td>\n",
       "      <td>6</td>\n",
       "      <td>70</td>\n",
       "      <td>master</td>\n",
       "    </tr>\n",
       "    <tr>\n",
       "      <th>2</th>\n",
       "      <td>143044068</td>\n",
       "      <td>MDEwOlJlcG9zaXRvcnkxNDMwNDQwNjg=</td>\n",
       "      <td>0x0g-2018-badge</td>\n",
       "      <td>google/0x0g-2018-badge</td>\n",
       "      <td>False</td>\n",
       "      <td>{'login': 'google', 'id': 1342004, 'node_id': ...</td>\n",
       "      <td>https://github.com/google/0x0g-2018-badge</td>\n",
       "      <td>None</td>\n",
       "      <td>False</td>\n",
       "      <td>https://api.github.com/repos/google/0x0g-2018-...</td>\n",
       "      <td>...</td>\n",
       "      <td>{'key': 'apache-2.0', 'name': 'Apache License ...</td>\n",
       "      <td>True</td>\n",
       "      <td>False</td>\n",
       "      <td>False</td>\n",
       "      <td>[]</td>\n",
       "      <td>public</td>\n",
       "      <td>7</td>\n",
       "      <td>0</td>\n",
       "      <td>18</td>\n",
       "      <td>master</td>\n",
       "    </tr>\n",
       "    <tr>\n",
       "      <th>3</th>\n",
       "      <td>424674738</td>\n",
       "      <td>R_kgDOGVAFsg</td>\n",
       "      <td>aarch64-esr-decoder</td>\n",
       "      <td>google/aarch64-esr-decoder</td>\n",
       "      <td>False</td>\n",
       "      <td>{'login': 'google', 'id': 1342004, 'node_id': ...</td>\n",
       "      <td>https://github.com/google/aarch64-esr-decoder</td>\n",
       "      <td>A utility for decoding aarch64 ESR register va...</td>\n",
       "      <td>False</td>\n",
       "      <td>https://api.github.com/repos/google/aarch64-es...</td>\n",
       "      <td>...</td>\n",
       "      <td>{'key': 'apache-2.0', 'name': 'Apache License ...</td>\n",
       "      <td>True</td>\n",
       "      <td>False</td>\n",
       "      <td>False</td>\n",
       "      <td>[aarch64]</td>\n",
       "      <td>public</td>\n",
       "      <td>3</td>\n",
       "      <td>0</td>\n",
       "      <td>8</td>\n",
       "      <td>main</td>\n",
       "    </tr>\n",
       "    <tr>\n",
       "      <th>4</th>\n",
       "      <td>487987687</td>\n",
       "      <td>R_kgDOHRYZ5w</td>\n",
       "      <td>aarch64-paging</td>\n",
       "      <td>google/aarch64-paging</td>\n",
       "      <td>False</td>\n",
       "      <td>{'login': 'google', 'id': 1342004, 'node_id': ...</td>\n",
       "      <td>https://github.com/google/aarch64-paging</td>\n",
       "      <td>A Rust library to manipulate AArch64 VMSA EL1 ...</td>\n",
       "      <td>False</td>\n",
       "      <td>https://api.github.com/repos/google/aarch64-pa...</td>\n",
       "      <td>...</td>\n",
       "      <td>{'key': 'other', 'name': 'Other', 'spdx_id': '...</td>\n",
       "      <td>True</td>\n",
       "      <td>False</td>\n",
       "      <td>False</td>\n",
       "      <td>[aarch64, pagetable, rust, rust-crate, vmsa]</td>\n",
       "      <td>public</td>\n",
       "      <td>2</td>\n",
       "      <td>1</td>\n",
       "      <td>7</td>\n",
       "      <td>main</td>\n",
       "    </tr>\n",
       "  </tbody>\n",
       "</table>\n",
       "<p>5 rows × 78 columns</p>\n",
       "</div>"
      ],
      "text/plain": [
       "          id                           node_id                 name  \\\n",
       "0  460600860                      R_kgDOG3Q2HA             .allstar   \n",
       "1  170908616  MDEwOlJlcG9zaXRvcnkxNzA5MDg2MTY=              .github   \n",
       "2  143044068  MDEwOlJlcG9zaXRvcnkxNDMwNDQwNjg=      0x0g-2018-badge   \n",
       "3  424674738                      R_kgDOGVAFsg  aarch64-esr-decoder   \n",
       "4  487987687                      R_kgDOHRYZ5w       aarch64-paging   \n",
       "\n",
       "                    full_name  private  \\\n",
       "0             google/.allstar    False   \n",
       "1              google/.github    False   \n",
       "2      google/0x0g-2018-badge    False   \n",
       "3  google/aarch64-esr-decoder    False   \n",
       "4       google/aarch64-paging    False   \n",
       "\n",
       "                                               owner  \\\n",
       "0  {'login': 'google', 'id': 1342004, 'node_id': ...   \n",
       "1  {'login': 'google', 'id': 1342004, 'node_id': ...   \n",
       "2  {'login': 'google', 'id': 1342004, 'node_id': ...   \n",
       "3  {'login': 'google', 'id': 1342004, 'node_id': ...   \n",
       "4  {'login': 'google', 'id': 1342004, 'node_id': ...   \n",
       "\n",
       "                                        html_url  \\\n",
       "0             https://github.com/google/.allstar   \n",
       "1              https://github.com/google/.github   \n",
       "2      https://github.com/google/0x0g-2018-badge   \n",
       "3  https://github.com/google/aarch64-esr-decoder   \n",
       "4       https://github.com/google/aarch64-paging   \n",
       "\n",
       "                                         description   fork  \\\n",
       "0                                               None  False   \n",
       "1            default configuration for @google repos  False   \n",
       "2                                               None  False   \n",
       "3  A utility for decoding aarch64 ESR register va...  False   \n",
       "4  A Rust library to manipulate AArch64 VMSA EL1 ...  False   \n",
       "\n",
       "                                                 url  ...  \\\n",
       "0       https://api.github.com/repos/google/.allstar  ...   \n",
       "1        https://api.github.com/repos/google/.github  ...   \n",
       "2  https://api.github.com/repos/google/0x0g-2018-...  ...   \n",
       "3  https://api.github.com/repos/google/aarch64-es...  ...   \n",
       "4  https://api.github.com/repos/google/aarch64-pa...  ...   \n",
       "\n",
       "                                             license allow_forking  \\\n",
       "0  {'key': 'apache-2.0', 'name': 'Apache License ...          True   \n",
       "1                                               None          True   \n",
       "2  {'key': 'apache-2.0', 'name': 'Apache License ...          True   \n",
       "3  {'key': 'apache-2.0', 'name': 'Apache License ...          True   \n",
       "4  {'key': 'other', 'name': 'Other', 'spdx_id': '...          True   \n",
       "\n",
       "  is_template web_commit_signoff_required  \\\n",
       "0       False                       False   \n",
       "1       False                       False   \n",
       "2       False                       False   \n",
       "3       False                       False   \n",
       "4       False                       False   \n",
       "\n",
       "                                         topics visibility forks open_issues  \\\n",
       "0                                            []     public     0           0   \n",
       "1                                            []     public   147           6   \n",
       "2                                            []     public     7           0   \n",
       "3                                     [aarch64]     public     3           0   \n",
       "4  [aarch64, pagetable, rust, rust-crate, vmsa]     public     2           1   \n",
       "\n",
       "  watchers default_branch  \n",
       "0        3           main  \n",
       "1       70         master  \n",
       "2       18         master  \n",
       "3        8           main  \n",
       "4        7           main  \n",
       "\n",
       "[5 rows x 78 columns]"
      ]
     },
     "execution_count": 5,
     "metadata": {},
     "output_type": "execute_result"
    }
   ],
   "source": [
    "df_repos = pd.read_json(subdir + archivo_nombre)\n",
    "\n",
    "df_repos.head()"
   ]
  },
  {
   "cell_type": "code",
   "execution_count": 6,
   "metadata": {
    "id": "XGt6mGBnWGgo"
   },
   "outputs": [
    {
     "name": "stdout",
     "output_type": "stream",
     "text": [
      "<class 'pandas.core.frame.DataFrame'>\n",
      "RangeIndex: 30 entries, 0 to 29\n",
      "Data columns (total 78 columns):\n",
      " #   Column                       Non-Null Count  Dtype              \n",
      "---  ------                       --------------  -----              \n",
      " 0   id                           30 non-null     int64              \n",
      " 1   node_id                      30 non-null     object             \n",
      " 2   name                         30 non-null     object             \n",
      " 3   full_name                    30 non-null     object             \n",
      " 4   private                      30 non-null     bool               \n",
      " 5   owner                        30 non-null     object             \n",
      " 6   html_url                     30 non-null     object             \n",
      " 7   description                  14 non-null     object             \n",
      " 8   fork                         30 non-null     bool               \n",
      " 9   url                          30 non-null     object             \n",
      " 10  forks_url                    30 non-null     object             \n",
      " 11  keys_url                     30 non-null     object             \n",
      " 12  collaborators_url            30 non-null     object             \n",
      " 13  teams_url                    30 non-null     object             \n",
      " 14  hooks_url                    30 non-null     object             \n",
      " 15  issue_events_url             30 non-null     object             \n",
      " 16  events_url                   30 non-null     object             \n",
      " 17  assignees_url                30 non-null     object             \n",
      " 18  branches_url                 30 non-null     object             \n",
      " 19  tags_url                     30 non-null     object             \n",
      " 20  blobs_url                    30 non-null     object             \n",
      " 21  git_tags_url                 30 non-null     object             \n",
      " 22  git_refs_url                 30 non-null     object             \n",
      " 23  trees_url                    30 non-null     object             \n",
      " 24  statuses_url                 30 non-null     object             \n",
      " 25  languages_url                30 non-null     object             \n",
      " 26  stargazers_url               30 non-null     object             \n",
      " 27  contributors_url             30 non-null     object             \n",
      " 28  subscribers_url              30 non-null     object             \n",
      " 29  subscription_url             30 non-null     object             \n",
      " 30  commits_url                  30 non-null     object             \n",
      " 31  git_commits_url              30 non-null     object             \n",
      " 32  comments_url                 30 non-null     object             \n",
      " 33  issue_comment_url            30 non-null     object             \n",
      " 34  contents_url                 30 non-null     object             \n",
      " 35  compare_url                  30 non-null     object             \n",
      " 36  merges_url                   30 non-null     object             \n",
      " 37  archive_url                  30 non-null     object             \n",
      " 38  downloads_url                30 non-null     object             \n",
      " 39  issues_url                   30 non-null     object             \n",
      " 40  pulls_url                    30 non-null     object             \n",
      " 41  milestones_url               30 non-null     object             \n",
      " 42  notifications_url            30 non-null     object             \n",
      " 43  labels_url                   30 non-null     object             \n",
      " 44  releases_url                 30 non-null     object             \n",
      " 45  deployments_url              30 non-null     object             \n",
      " 46  created_at                   30 non-null     datetime64[ns, UTC]\n",
      " 47  updated_at                   30 non-null     datetime64[ns, UTC]\n",
      " 48  pushed_at                    30 non-null     datetime64[ns, UTC]\n",
      " 49  git_url                      30 non-null     object             \n",
      " 50  ssh_url                      30 non-null     object             \n",
      " 51  clone_url                    30 non-null     object             \n",
      " 52  svn_url                      30 non-null     object             \n",
      " 53  homepage                     14 non-null     object             \n",
      " 54  size                         30 non-null     int64              \n",
      " 55  stargazers_count             30 non-null     int64              \n",
      " 56  watchers_count               30 non-null     int64              \n",
      " 57  language                     27 non-null     object             \n",
      " 58  has_issues                   30 non-null     bool               \n",
      " 59  has_projects                 30 non-null     bool               \n",
      " 60  has_downloads                30 non-null     bool               \n",
      " 61  has_wiki                     30 non-null     bool               \n",
      " 62  has_pages                    30 non-null     bool               \n",
      " 63  forks_count                  30 non-null     int64              \n",
      " 64  mirror_url                   0 non-null      float64            \n",
      " 65  archived                     30 non-null     bool               \n",
      " 66  disabled                     30 non-null     bool               \n",
      " 67  open_issues_count            30 non-null     int64              \n",
      " 68  license                      29 non-null     object             \n",
      " 69  allow_forking                30 non-null     bool               \n",
      " 70  is_template                  30 non-null     bool               \n",
      " 71  web_commit_signoff_required  30 non-null     bool               \n",
      " 72  topics                       30 non-null     object             \n",
      " 73  visibility                   30 non-null     object             \n",
      " 74  forks                        30 non-null     int64              \n",
      " 75  open_issues                  30 non-null     int64              \n",
      " 76  watchers                     30 non-null     int64              \n",
      " 77  default_branch               30 non-null     object             \n",
      "dtypes: bool(12), datetime64[ns, UTC](3), float64(1), int64(9), object(53)\n",
      "memory usage: 15.9+ KB\n"
     ]
    }
   ],
   "source": [
    "df_repos.info()"
   ]
  },
  {
   "cell_type": "markdown",
   "metadata": {
    "id": "pfpmlCOtWGgp"
   },
   "source": [
    "y ahora como le hacemos con la biblioteca de `json`"
   ]
  },
  {
   "cell_type": "code",
   "execution_count": 7,
   "metadata": {
    "id": "L_mSEFkcWGgq"
   },
   "outputs": [
    {
     "name": "stdout",
     "output_type": "stream",
     "text": [
      "\n",
      "Número de entradas: 30\n",
      "\n",
      "Nombre de los atributos: id, node_id, name, full_name, private, owner, html_url, description, fork, url, forks_url, keys_url, collaborators_url, teams_url, hooks_url, issue_events_url, events_url, assignees_url, branches_url, tags_url, blobs_url, git_tags_url, git_refs_url, trees_url, statuses_url, languages_url, stargazers_url, contributors_url, subscribers_url, subscription_url, commits_url, git_commits_url, comments_url, issue_comment_url, contents_url, compare_url, merges_url, archive_url, downloads_url, issues_url, pulls_url, milestones_url, notifications_url, labels_url, releases_url, deployments_url, created_at, updated_at, pushed_at, git_url, ssh_url, clone_url, svn_url, homepage, size, stargazers_count, watchers_count, language, has_issues, has_projects, has_downloads, has_wiki, has_pages, forks_count, mirror_url, archived, disabled, open_issues_count, license, allow_forking, is_template, web_commit_signoff_required, topics, visibility, forks, open_issues, watchers, default_branch\n",
      "\n",
      "Atributos de 'owner': login, id, node_id, avatar_url, gravatar_id, url, html_url, followers_url, following_url, gists_url, starred_url, subscriptions_url, organizations_url, repos_url, events_url, received_events_url, type, site_admin\n"
     ]
    }
   ],
   "source": [
    "with open(subdir + archivo_nombre, 'r') as fp:\n",
    "    repos = json.load(fp)\n",
    "\n",
    "print(\"\\nNúmero de entradas: {}\".format(len(repos)))\n",
    "print(\"\\nNombre de los atributos: {}\".format(\", \".join(repos[0].keys())))\n",
    "print(\"\\nAtributos de 'owner': {}\".format(\", \".join(repos[0]['owner'].keys())))\n"
   ]
  }
 ],
 "metadata": {
  "colab": {
   "provenance": [
    {
     "file_id": "https://github.com/mcd-unison/ing-caract/blob/main/ejemplos/integracion/python/descarga_datos.ipynb",
     "timestamp": 1661218644498
    }
   ]
  },
  "kernelspec": {
   "display_name": "Python 3 (ipykernel)",
   "language": "python",
   "name": "python3"
  },
  "language_info": {
   "codemirror_mode": {
    "name": "ipython",
    "version": 3
   },
   "file_extension": ".py",
   "mimetype": "text/x-python",
   "name": "python",
   "nbconvert_exporter": "python",
   "pygments_lexer": "ipython3",
   "version": "3.9.7"
  },
  "vscode": {
   "interpreter": {
    "hash": "266c02d0b88fb79ac68216b08bc6bf334e56f5daeb776843302a4ad1205260c4"
   }
  }
 },
 "nbformat": 4,
 "nbformat_minor": 4
}
