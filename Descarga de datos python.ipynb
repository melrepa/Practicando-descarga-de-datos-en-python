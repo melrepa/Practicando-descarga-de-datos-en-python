{
 "cells": [
  {
   "cell_type": "markdown",
   "metadata": {},
   "source": [
    "#Descarga de archivos\n",
    "#Importando bibliotecas"
   ]
  },
  {
   "cell_type": "code",
   "execution_count": null,
   "metadata": {},
   "outputs": [],
   "source": [
    "import os\n",
    "import urllib.request\n",
    "import datetime\n",
    "import pandas as pd\n",
    "import zipfile"
   ]
  },
  {
   "cell_type": "code",
   "execution_count": null,
   "metadata": {},
   "outputs": [],
   "source": [
    "print(os.getcwd())\n",
    "mineria_sonora_url = \"https://www.inegi.org.mx/contenidos/masiva/indicadores/temas/mineria/mineria_26_xlsx.zip\"\n",
    "mineria_sonora_archivo = \"mineriasonora.zip\"\n",
    "subdir = \"./data/\""
   ]
  },
  {
   "cell_type": "code",
   "execution_count": null,
   "metadata": {},
   "outputs": [],
   "source": [
    "if not os.path.exists(mineria_sonora_archivo):\n",
    "    if not os.path.exists(subdir):\n",
    "        os.makedirs(subdir)\n",
    "    urllib.request.urlretrieve(mineria_sonora_url, subdir + mineria_sonora_archivo)  \n",
    "    with zipfile.ZipFile(subdir + mineria_sonora_archivo, \"r\") as zip_ref:\n",
    "        zip_ref.extractall(subdir)\n",
    "\n",
    "    with open(subdir + \"info.txt\", 'w') as f:\n",
    "        f.write(\"Indicadores de minería en Sonora\\n\")\n",
    "        info = \"\"\"\n",
    "        Datos de desaparecidos, corte nacional y desagregación a nivel estatal, por edad, por sexo, \n",
    "        por nacionalidad, por año de desaparición y por mes de desaparición para los últimos 12 meses.\n",
    "\n",
    "        Los datos se obtuvieron del RNPDNO con fecha de 03 de agosto de 2021 (la base de datos se actualiza constantemente) \n",
    "\n",
    "        \"\"\" \n",
    "        f.write(info + '\\n')\n",
    "        f.write(\"Descargado el \" + datetime.datetime.now().strftime(\"%Y-%m-%d %H:%M:%S\") + \"\\n\")\n",
    "        f.write(\"Desde: \" + desaparecidos_RNPDNO_url + \"\\n\")\n",
    "        f.write(\"Nombre: \" + desaparecidos_RNPDNO_archivo + \"\\n\")\n",
    "        f.write(\"Agregados nacionales descargados desde: \" + desaparecidos_corte_nacional_url + \"\\n\")\n",
    "        f.write(\"Nombre: \" + desaparecidos_corte_nacional_archivo + \"\\n\")"
   ]
  }
 ],
 "metadata": {
  "language_info": {
   "name": "python"
  },
  "orig_nbformat": 4
 },
 "nbformat": 4,
 "nbformat_minor": 2
}
