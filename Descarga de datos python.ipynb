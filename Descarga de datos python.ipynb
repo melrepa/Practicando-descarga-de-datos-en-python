{
 "cells": [
  {
   "cell_type": "markdown",
   "metadata": {},
   "source": [
    "#Descarga de archivos\n",
    "#Importando bibliotecas"
   ]
  },
  {
   "cell_type": "code",
   "execution_count": 1,
   "metadata": {},
   "outputs": [],
   "source": [
    "import os\n",
    "import urllib.request\n",
    "import datetime\n",
    "import pandas as pd\n",
    "import xlrd\n",
    "import zipfile"
   ]
  },
  {
   "cell_type": "code",
   "execution_count": 2,
   "metadata": {},
   "outputs": [
    {
     "name": "stdout",
     "output_type": "stream",
     "text": [
      "C:\\Users\\ghost\\Practicando-descarga-de-datos-en-python\n"
     ]
    }
   ],
   "source": [
    "print(os.getcwd())\n",
    "mineria_sonora_url = \"https://www.inegi.org.mx/contenidos/masiva/indicadores/temas/mineria/mineria_26_xlsx.zip\"\n",
    "mineria_sonora_archivo = \"mineriasonora.zip\"\n",
    "subdir = \"./dataSon/\""
   ]
  },
  {
   "cell_type": "code",
   "execution_count": 3,
   "metadata": {},
   "outputs": [],
   "source": [
    "if not os.path.exists(mineria_sonora_archivo):\n",
    "    if not os.path.exists(subdir):\n",
    "        os.makedirs(subdir)\n",
    "    urllib.request.urlretrieve(mineria_sonora_url, subdir + mineria_sonora_archivo)  \n",
    "    with zipfile.ZipFile(subdir + mineria_sonora_archivo, \"r\") as zip_ref:\n",
    "        zip_ref.extractall(subdir)\n",
    "\n",
    "    with open(subdir + \"info.txt\", 'w') as f:\n",
    "        f.write(\"Indicadores de minería en Sonora\\n\")\n",
    "        info = \"\"\"\n",
    "        Indicadores de minería en Sonora.\n",
    "\n",
    "        Los datos se obtuvieron de Dercarga masiva de INEGI con fecha de 23 de agosto de 2022 (la base de datos se actualiza constantemente) \n",
    "\n",
    "        \"\"\" \n",
    "        f.write(info + '\\n')\n",
    "        f.write(\"Descargado el \" + datetime.datetime.now().strftime(\"%Y-%m-%d %H:%M:%S\") + \"\\n\")\n",
    "        f.write(\"Desde: \" + mineria_sonora_url + \"\\n\")\n",
    "        f.write(\"Nombre: \" + mineria_sonora_archivo + \"\\n\")"
   ]
  },
  {
   "cell_type": "code",
   "execution_count": 5,
   "metadata": {},
   "outputs": [
    {
     "ename": "SyntaxError",
     "evalue": "(unicode error) 'unicodeescape' codec can't decode bytes in position 2-3: truncated \\UXXXXXXXX escape (Temp/ipykernel_37368/3666720646.py, line 2)",
     "output_type": "error",
     "traceback": [
      "\u001b[1;36m  File \u001b[1;32m\"C:\\Users\\ghost\\AppData\\Local\\Temp/ipykernel_37368/3666720646.py\"\u001b[1;36m, line \u001b[1;32m2\u001b[0m\n\u001b[1;33m    excel_document = openpyxl.load_workbook('C:\\Users\\ghost\\Practicando-descarga-de-datos-en-python\\dataSon\\mineria_26.xlsx')\u001b[0m\n\u001b[1;37m                                                                                                                            ^\u001b[0m\n\u001b[1;31mSyntaxError\u001b[0m\u001b[1;31m:\u001b[0m (unicode error) 'unicodeescape' codec can't decode bytes in position 2-3: truncated \\UXXXXXXXX escape\n"
     ]
    }
   ],
   "source": [
    "import openpyxl\n",
    "excel_document = openpyxl.load_workbook('C:\\Users\\ghost\\Practicando-descarga-de-datos-en-python\\dataSon\\mineria_26.xlsx')"
   ]
  }
 ],
 "metadata": {
  "kernelspec": {
   "display_name": "Python 3 (ipykernel)",
   "language": "python",
   "name": "python3"
  },
  "language_info": {
   "codemirror_mode": {
    "name": "ipython",
    "version": 3
   },
   "file_extension": ".py",
   "mimetype": "text/x-python",
   "name": "python",
   "nbconvert_exporter": "python",
   "pygments_lexer": "ipython3",
   "version": "3.9.7"
  }
 },
 "nbformat": 4,
 "nbformat_minor": 4
}
